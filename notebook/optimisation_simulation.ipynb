{
 "cells": [
  {
   "cell_type": "markdown",
   "metadata": {},
   "source": [
    "# Growth model\n",
    "\n",
    "Here i simulate the basic growth model used by Charnov ect...\n",
    "\n",
    "$$\n",
    "\\frac{dM}{dt} = aM^{\\beta} - bM - cM^{\\gamma}\n",
    "$$\n",
    "\n",
    "where $aM^{\\beta}$ is energy intake with its mass scaling exponent, $bM$ is maintenece metabolism and $cM^{\\gamma}$ is reproductive output.\n",
    "\n",
    "the fitness ($R_0$) of an individual growing according to the model above can be obtained by integrating their reproductive output over time, including thier mortaility L(M):\n",
    "\n",
    "$$\n",
    "R_0 = \\int_0^\\infty cM^{\\beta} L(M,t) dt\n",
    "$$\n",
    "\n",
    "This mortality function is set to an exponential decay function here:\n",
    "\n",
    "$$\n",
    "L(M,t) = e^{-\\lambda Mt}\n",
    "$$\n",
    "\n",
    "where $\\lambda$ is a rate parameter controling the rate at which the likelyhood of survival decreases.\n",
    "\n",
    "I also consider the \"switching on\" of reproduction at some mass $M_{\\alpha}$. This occurs instantly with a piecewise funtion for growth. "
   ]
  },
  {
   "cell_type": "code",
   "execution_count": 10,
   "metadata": {
    "scrolled": false
   },
   "outputs": [],
   "source": [
    "using Pkg\n",
    "# import Pkg; Pkg.add(\"Gadfly\")\n",
    "# import Pkg; Pkg.add(\"DiffEqCallbacks\")\n",
    "# import Pkg; Pkg.add(\"Plots\")\n",
    "# import Pkg; Pkg.add(\"PGFPlots\")\n",
    "# import Pkg; Pkg.add(\"DifferentialEquations\")\n",
    "# import Pkg; Pkg.add(\"LaTeXStrings\")\n",
    "Pkg.activate(\"..\")\n",
    "\n",
    "using DifferentialEquations, Printf, DiffEqCallbacks, Plots, Printf, LaTeXStrings\n",
    "# using Gadfly"
   ]
  },
  {
   "cell_type": "code",
   "execution_count": 11,
   "metadata": {},
   "outputs": [
    {
     "data": {
      "text/plain": [
       "dM (generic function with 1 method)"
      ]
     },
     "execution_count": 11,
     "metadata": {},
     "output_type": "execute_result"
    }
   ],
   "source": [
    "function dM(dM,M,p,t)\n",
    "    intak = p[:a_0] * (abs(M[1]) ^ p[:a_b])\n",
    "    maint = p[:b_0] * (abs(M[1]) ^ p[:b_b])\n",
    "\n",
    "    if t < p[:Alph] \n",
    "        repro = 0.0\n",
    "    else\n",
    "        repro = p[:c_0] * (abs(M[1]) ^ p[:c_b])\n",
    "        \n",
    "        end\n",
    "        \n",
    "    dM[1] = intak - maint - repro\n",
    "    dM[2] = repro * exp(-(p[:k]+p[:Z])*(t-p[:Alph]))    \n",
    "end"
   ]
  },
  {
   "cell_type": "code",
   "execution_count": 15,
   "metadata": {},
   "outputs": [
    {
     "data": {
      "text/plain": [
       "0:10:100"
      ]
     },
     "execution_count": 15,
     "metadata": {},
     "output_type": "execute_result"
    }
   ],
   "source": [
    "hypothetical_starting_mass = 0.1\n",
    "hypothetical_asymptotic_mass = 15000 # original 20000\n",
    "hypothetical_starting_reproduction = 0 #c * (hypothetical_starting_mass)^ rho\n",
    "a = 0.7; a_b = 0.75\n",
    "b = a/(hypothetical_asymptotic_mass^0.25)\n",
    "c = 0.001 # West et al. assume 0.1 from Peters\n",
    "alpha = 200\n",
    "\n",
    "# alpha_vec = [10,20,30,40,60,70,80,90,100,110,120,130,140,150,160,170,180,190,120]\n",
    "# # alpha_vec = 65:10:120\n",
    "\n",
    "k_vec = [0.01]\n",
    "a_b_vec = [0.75] #[0.75,0.85]\n",
    "resolution = 100\n",
    "c_vec = range(0.001,0.5,length = resolution)\n",
    "c_b_vec = range(0.001,1.25,length = resolution)\n",
    "xticks = 0:10:100\n",
    "yticks = 0:10:100"
   ]
  },
  {
   "cell_type": "code",
   "execution_count": 18,
   "metadata": {
    "scrolled": false
   },
   "outputs": [
    {
     "name": "stdout",
     "output_type": "stream",
     "text": [
      "\n",
      "alpha: 20012744.153102460914\n",
      "Saving optimisation heatmap for simulation: ../results/opt_hm_Alph=200.00_a=0.70_x=0.75_k=0.01_regfont.pdf"
     ]
    }
   ],
   "source": [
    "for g in 1:length(k_vec) # think this gets changed to alpha_vec using same iterator\n",
    "    k = k_vec[g]\n",
    "    k = 0.01\n",
    "#     alpha = alpha_vec[g]\n",
    "#     if alpha == 75\n",
    "#         alpha = 80\n",
    "#     end\n",
    "#     if alpha == 50\n",
    "#         alpha = 45\n",
    "#     end\n",
    "#     alpha = 60\n",
    "    print(\"\\nalpha: \", alpha)\n",
    "    if alpha == 290\n",
    "        c_b_vec = range(0.001,1.2,length = resolution)\n",
    "    end\n",
    "    if alpha == 300\n",
    "        c_b_vec = range(0.001,1.13,length = resolution)\n",
    "    end\n",
    "    for h in 1:length(a_b_vec)\n",
    "        a_b = a_b_vec[h]\n",
    "        M0 = [hypothetical_starting_mass, hypothetical_starting_reproduction]\n",
    "        tspan = (0.0,1e4)\n",
    "        \n",
    "        ## Calculate which curves have an asymptotic size (no repro) larger than m_alpha (i.e. no shrinking) ##\n",
    "        ## when reproduction is from birth ##\n",
    "        results_no_shrink = Array{Float64,2}(undef,resolution,resolution)\n",
    "        results_optimisation = Array{Any,2}(undef,resolution,resolution)\n",
    "        for i in 1:resolution\n",
    "            c_0 = c_vec[i]\n",
    "            for j in 1:resolution\n",
    "                c_b = c_b_vec[j]\n",
    "                p = Dict([(:a_0,a),(:a_b,a_b),\n",
    "                  (:b_0,b),(:b_b,1.0),\n",
    "                  (:c_0,c_0),(:c_b,c_b),\n",
    "                  (:Alph,alpha),\n",
    "                  (:k,k),(:Z,2/alpha)])\n",
    "#                 print(\"beginning simulation\")\n",
    "                prob = ODEProblem(dM,M0,tspan,p)\n",
    "                sol_optimisation = solve(prob,Rosenbrock23()) \n",
    "#                 print(\"simulation complete\")\n",
    "                results_optimisation[i,j] = sol_optimisation\n",
    "                global M_alph = sol_optimisation(p[:Alph])[1] # find m_alpha for your given alpha - needs fixing as finding same value in every loop\n",
    "#                 print(p)\n",
    "                p[:Alph] = 0.0 # update p value, MUST come after prob defined\n",
    "#                 print(\"new p\", p)\n",
    "                prob = ODEProblem(dM,M0,tspan,p)\n",
    "                sol_no_shrink = solve(prob,Rosenbrock23())\n",
    "                results_no_shrink[i,j] = sol_no_shrink[end][1]\n",
    "                \n",
    "            end\n",
    "        end\n",
    "        print(M_alph)\n",
    "        feas = results_no_shrink .> M_alph # matrix of feasible growth curves where asmyptotic size is larger than mass a maturity (i.e.) those curves with no shrinking\n",
    "        \n",
    "        ## Of those feasible curves, what is optimum\n",
    "        x = [i.u[end][2] for i = results_optimisation] # find reproduction for each cell\n",
    "        \n",
    "        ## Find optimum values from matrix\n",
    "        max = findmax(x .* feas)\n",
    "        c_opt = c_vec[max[2][1]]\n",
    "        rho_opt = c_b_vec[max[2][2]]\n",
    "        #         optima_sensitivity[g,1] = alpha\n",
    "#         optima_sensitivity[g,2] = a_b\n",
    "#         optima_sensitivity[g,3] = c_opt\n",
    "#         optima_sensitivity[g,4] = rho_opt\n",
    "        \n",
    "        \n",
    "        ## Set plot attributes\n",
    "        \n",
    "        \n",
    "        xticks_labels = 0.00:maximum(c_vec)/10:maximum(c_vec)\n",
    "        yticks_labels = 0.00:maximum(c_b_vec)/10:maximum(c_b_vec)\n",
    "        #         yticks_strings = [\"$(@sprintf(\"%.2f\", i))\" for i in yticks_labels]\n",
    "#         yticks_strings2 = [latexify(i) for i in yticks_strings]\n",
    "        \n",
    "        ## Generate plots\n",
    "#         p = heatmap(x .* feas, xlab=L\"c\",xticks = (xticks,xticks_labels),\n",
    "#                             ylab=L\"\\rho\", yticks = (yticks,yticks_labels),\n",
    "#                             transpose=true)\n",
    "#         annotate!([(80, 90, text(\"c opt = $(@sprintf(\"%.2f\", c_opt))\\n  rho opt = $(@sprintf(\"%.2f\", rho_opt))\", 10, :white, :topright))])\n",
    "#         annotate!([(max[2][1], max[2][2], text(\"O\", 12, :white))])\n",
    "        heatmap(x .* feas, xlab=\"Proportion of body mass to fecundity rate, c\",xticks = (xticks,xticks_labels),\n",
    "                            ylab=\"Fecundity rate mass-scaling exp, p\", yticks = (yticks,yticks_labels),\n",
    "                            transpose=true, legend = :none)\n",
    "        annotation_string = \" c opt = $(@sprintf(\"%.2f\", c_opt))\\n rho opt = $(@sprintf(\"%.2f\", rho_opt))\"\n",
    "        annotate!([(80, 90, text(annotation_string, 12, :white, :topright))])\n",
    "        annotate!([(max[2][1], max[2][2], text(\"O\", 12, :white))])\n",
    "        ## Save fitness surface\n",
    "        file_name = \"../results/opt_hm_Alph=$(@sprintf(\"%.2f\", alpha))_a=$(@sprintf(\"%.2f\", a))_x=$(@sprintf(\"%.2f\", a_b))_k=$(@sprintf(\"%.2f\", k_vec[g]))_regfont.pdf\"\n",
    "#         csv_file_name = \"../Results/opt_hm_Alph=$(@sprintf(\"%.2f\", alpha))_a=$(@sprintf(\"%.2f\", a))_x=$(@sprintf(\"%.2f\", a_b))_k=$(@sprintf(\"%.2f\", k_vec[g])).csv\"\n",
    "        print(\"\\nSaving optimisation heatmap for simulation: \", file_name)\n",
    "        savefig(file_name) # Saves the plot from p as a .pdf vector graphic\n",
    "    end\n",
    "end\n",
    "        \n",
    "        \n",
    "        \n",
    "        ## Save fitness surface\n",
    "#         file_name = \"../Results/opt_hm_Alph=$(@sprintf(\"%.2f\", alpha))_a=$(@sprintf(\"%.2f\", a))_x=$(@sprintf(\"%.2f\", a_b))_k=$(@sprintf(\"%.2f\", k_vec[g])).pdf\"\n",
    "#         print(\"\\nSaving optimisation heatmap for simulation: \", file_name)\n",
    "#         draw(PGF(\"plot.tex\", 5inch, 3inch), p.o)\n",
    "#         savefig(file_name) # Saves the plot from p as a .pdf vector graphic\n",
    "        ## Save parameter space for feasible curves\n",
    "#         heatmap(feas, xlab=L\"c\",xticks = (xticks,xticks_labels),\n",
    "#                             ylab=L\"\\rho\", yticks = (yticks,yticks_labels),\n",
    "#                             transpose=true) #, colormap=ColorMaps.Named(\"Jet\"))\n",
    "#         savefig(\"../Results/feasible.pdf\") # Saves the plot from p as a .pdf vector graphic\n",
    "#     end\n",
    "# end"
   ]
  },
  {
   "cell_type": "code",
   "execution_count": null,
   "metadata": {},
   "outputs": [],
   "source": []
  }
 ],
 "metadata": {
  "kernelspec": {
   "display_name": "Julia 1.1.1",
   "language": "julia",
   "name": "julia-1.1"
  },
  "language_info": {
   "file_extension": ".jl",
   "mimetype": "application/julia",
   "name": "julia",
   "version": "1.1.1"
  },
  "toc": {
   "nav_menu": {},
   "number_sections": true,
   "sideBar": true,
   "skip_h1_title": false,
   "title_cell": "Table of Contents",
   "title_sidebar": "Contents",
   "toc_cell": false,
   "toc_position": {},
   "toc_section_display": true,
   "toc_window_display": false
  }
 },
 "nbformat": 4,
 "nbformat_minor": 2
}
