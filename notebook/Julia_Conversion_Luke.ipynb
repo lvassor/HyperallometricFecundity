{
 "cells": [
  {
   "cell_type": "code",
   "execution_count": 3,
   "metadata": {
    "scrolled": false
   },
   "outputs": [],
   "source": [
    "using Pkg\n",
    "# import Pkg; Pkg.add(\"DifferentialEquations\")\n",
    "# import Pkg; Pkg.add(\"DiffEqCallbacks\")\n",
    "# import Pkg; Pkg.add(\"Plots\")\n",
    "# Pkg.add(\"PGFPlots\")\n",
    "Pkg.activate(\"..\")\n",
    "\n",
    "using DifferentialEquations, DiffEqCallbacks, Plots, Printf, LaTeXStrings"
   ]
  },
  {
   "cell_type": "code",
   "execution_count": 4,
   "metadata": {},
   "outputs": [
    {
     "data": {
      "text/plain": [
       "dM (generic function with 1 method)"
      ]
     },
     "execution_count": 4,
     "metadata": {},
     "output_type": "execute_result"
    }
   ],
   "source": [
    "function dM(dM,M,p,t)\n",
    "    intak = p[:a_0] * (abs(M[1]) ^ p[:a_b])\n",
    "    maint = p[:b_0] * (abs(M[1]) ^ p[:b_b])\n",
    "\n",
    "    if t < p[:Alph] \n",
    "        repro = 0.0\n",
    "    else\n",
    "        repro = p[:c_0] * (abs(M[1]) ^ p[:c_b])\n",
    "        \n",
    "        end\n",
    "        \n",
    "    dM[1] = intak - maint - repro\n",
    "    dM[2] = repro * exp(-(p[:k]+p[:Z])*(t-p[:Alph]))    \n",
    "end"
   ]
  },
  {
   "cell_type": "code",
   "execution_count": 5,
   "metadata": {},
   "outputs": [
    {
     "data": {
      "text/plain": [
       "0:10:100"
      ]
     },
     "execution_count": 5,
     "metadata": {},
     "output_type": "execute_result"
    }
   ],
   "source": [
    "hypothetical_starting_mass = 0.1\n",
    "hypothetical_asymptotic_mass = 25000\n",
    "hypothetical_starting_reproduction = 0 #c * (hypothetical_starting_mass)^ rho\n",
    "a = 0.7; a_b = 0.85\n",
    "b = a/(hypothetical_asymptotic_mass^0.25)\n",
    "c = 0.001 # West et al. assume 0.1 from Peters\n",
    "alpha = 0.00001\n",
    "k_vec = [0.01, 0.1]\n",
    "a_b_vec = [0.75, 0.85]\n",
    "resolution = 100\n",
    "c_vec = range(0.001,0.5,length = resolution)\n",
    "c_b_vec = range(0.001,1.25,length = resolution)\n",
    "xticks = 0:10:100\n",
    "yticks = 0:10:100"
   ]
  },
  {
   "cell_type": "code",
   "execution_count": 6,
   "metadata": {},
   "outputs": [],
   "source": [
    "for g in 1:length(k_vec)\n",
    "    k = k_vec[g]\n",
    "    for h in 1:length(a_b_vec)\n",
    "        a_b = a_b_vec[h]\n",
    "        p = Dict([(:a_0,a),(:a_b,a_b),\n",
    "                  (:b_0,b),(:b_b,1.0),\n",
    "                  (:c_0,c),(:c_b,1.0),\n",
    "                  (:Alph,alpha),\n",
    "                  (:k,k),(:Z,2/alpha)])\n",
    "        M0 = [hypothetical_starting_mass, hypothetical_starting_reproduction]\n",
    "        tspan = (0.0,1e4)\n",
    "        prob = ODEProblem(dM,M0,tspan,p)\n",
    "        sol = solve(prob,Rosenbrock23())\n",
    "        M_alph = sol(p[:Alph])[1] # find m_alpha for your given alpha\n",
    "        \n",
    "        ## Calculate which curves have an asymptotic size larger than m_alpha (i.e. no shrinking) ##\n",
    "        results_no_shrink = Array{Float64,2}(undef,resolution,resolution)\n",
    "        for i in 1:resolution\n",
    "            c_0 = c_vec[i]\n",
    "            for j in 1:resolution\n",
    "                c_b = c_b_vec[j]\n",
    "                p = Dict([(:a_0,a),(:a_b,a_b),\n",
    "                  (:b_0,b),(:b_b,1.0),\n",
    "                  (:c_0,c_0),(:c_b,c_b),\n",
    "                  (:Alph,0.0),\n",
    "                  (:k,k),(:Z,0.9)])\n",
    "                prob = ODEProblem(dM,M0,tspan,p)\n",
    "                sol = solve(prob,Rosenbrock23())\n",
    "                results_no_shrink[i,j] = sol[end][1]\n",
    "            end\n",
    "        end\n",
    "        \n",
    "        feas = results_no_shrink .> M_alph # matrix of feasible growth curves where asmyptotic size is larger than mass a maturity (i.e.) those curves with no shrinking\n",
    "        ## Of those feasible curves, what is optimum\n",
    "        results_optimisation = Array{Any,2}(undef,resolution,resolution)\n",
    "        M0 = [hypothetical_starting_mass, hypothetical_starting_reproduction]\n",
    "        for i in 1:resolution\n",
    "            c_0 = c_vec[i]\n",
    "            for j in 1:resolution\n",
    "                c_b = c_b_vec[j]\n",
    "                p = Dict([(:a_0,a),(:a_b,a_b),\n",
    "                  (:b_0,b),(:b_b,1.0),\n",
    "                  (:c_0,c_0),(:c_b,c_b),\n",
    "                  (:Alph,alpha),\n",
    "                  (:k,k),(:Z,2/alpha)])\n",
    "                prob = ODEProblem(dM,M0,tspan,p)\n",
    "                sol = solve(prob,Rosenbrock23())\n",
    "                results_optimisation[i,j] = sol\n",
    "            end\n",
    "        end\n",
    "        x = [i.u[end][2] for i = results_optimisation] # find max reproduction for each cell\n",
    "        ## Find optimum values from matrix\n",
    "        max = findmax(x .* feas)\n",
    "        c_opt = c_vec[max[2][1]]\n",
    "        rho_opt = c_b_vec[max[2][2]]\n",
    "        ## Set plot attrivutes\n",
    "        xticks_labels = 0.00:maximum(c_vec)/10:maximum(c_vec)\n",
    "        yticks_labels = 0.00:maximum(c_b_vec)/10:maximum(c_b_vec)\n",
    "        ## Generate plots\n",
    "        heatmap(x .* feas, xlab=L\"c\",xticks = (xticks,xticks_labels),\n",
    "                            ylab=L\"\\rho\", yticks = (yticks,yticks_labels),\n",
    "                            transpose=true)\n",
    "        annotate!([(80, 90, text(\"c opt = $(@sprintf(\"%.2f\", c_opt))\\n  rho opt = $(@sprintf(\"%.2f\", rho_opt))\", 10, :white, :topright))])\n",
    "        annotate!([(max[2][1], max[2][2], text(\"O\", 12, :white))])\n",
    "        ## Save fitness surface\n",
    "        file_name = \"../Results/opt_hm_Alph=$(@sprintf(\"%.2f\", alpha))_a=$(@sprintf(\"%.2f\", a))_x=$(@sprintf(\"%.2f\", a_b))_k=$(@sprintf(\"%.2f\", p[:k])).pdf\"\n",
    "#         savefig(file_name) # Saves the plot from p as a .pdf vector graphic\n",
    "        ## Save parameter space for feasible curves\n",
    "#         heatmap(feas, xlab=L\"c\",xticks = (xticks,xticks_labels),\n",
    "#                             ylab=L\"\\rho\", yticks = (yticks,yticks_labels),\n",
    "#                             transpose=true) #, colormap=ColorMaps.Named(\"Jet\"))\n",
    "#         savefig(\"../Results/feasible.pdf\") # Saves the plot from p as a .pdf vector graphic\n",
    "    end\n",
    "end"
   ]
  },
  {
   "cell_type": "code",
   "execution_count": null,
   "metadata": {},
   "outputs": [],
   "source": []
  }
 ],
 "metadata": {
  "kernelspec": {
   "display_name": "Julia 1.1.1",
   "language": "julia",
   "name": "julia-1.1"
  },
  "language_info": {
   "file_extension": ".jl",
   "mimetype": "application/julia",
   "name": "julia",
   "version": "1.1.1"
  },
  "toc": {
   "nav_menu": {},
   "number_sections": true,
   "sideBar": true,
   "skip_h1_title": false,
   "title_cell": "Table of Contents",
   "title_sidebar": "Contents",
   "toc_cell": false,
   "toc_position": {},
   "toc_section_display": true,
   "toc_window_display": false
  }
 },
 "nbformat": 4,
 "nbformat_minor": 2
}
