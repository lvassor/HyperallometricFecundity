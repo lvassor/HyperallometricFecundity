{
 "cells": [
  {
   "cell_type": "markdown",
   "metadata": {},
   "source": [
    "# Ontogenetic Growth Model - Intake Rate & Hyperallometric Fecundity"
   ]
  },
  {
   "cell_type": "markdown",
   "metadata": {
    "toc": true
   },
   "source": [
    "<h1>Table of Contents<span class=\"tocSkip\"></span></h1>\n",
    "<div class=\"toc\"><ul class=\"toc-item\"><li><span><a href=\"#Ontogenetic-Growth-Model---Intake-Rate-&amp;-Hyperallometric-Fecundity\" data-toc-modified-id=\"Ontogenetic-Growth-Model---Intake-Rate-&amp;-Hyperallometric-Fecundity-1\"><span class=\"toc-item-num\">1&nbsp;&nbsp;</span>Ontogenetic Growth Model - Intake Rate &amp; Hyperallometric Fecundity</a></span><ul class=\"toc-item\"><li><span><a href=\"#Derivation---Master-Balance-Equation-(West-et-al.,-2001)\" data-toc-modified-id=\"Derivation---Master-Balance-Equation-(West-et-al.,-2001)-1.1\"><span class=\"toc-item-num\">1.1&nbsp;&nbsp;</span>Derivation - Master Balance Equation (West <em>et al.</em>, 2001)</a></span><ul class=\"toc-item\"><li><span><a href=\"#Growth-from-metabolic-energy-inflow\" data-toc-modified-id=\"Growth-from-metabolic-energy-inflow-1.1.1\"><span class=\"toc-item-num\">1.1.1&nbsp;&nbsp;</span>Growth from metabolic energy inflow</a></span></li><li><span><a href=\"#Surplus-is-reduced-by-efficiency-of-use-(ingestion-versus-energy-flow-into-branching-network)\" data-toc-modified-id=\"Surplus-is-reduced-by-efficiency-of-use-(ingestion-versus-energy-flow-into-branching-network)-1.1.2\"><span class=\"toc-item-num\">1.1.2&nbsp;&nbsp;</span>Surplus is reduced by efficiency of use (ingestion versus energy flow into branching network)</a></span></li><li><span><a href=\"#Can-also-introduce-loss-to-reproduction\" data-toc-modified-id=\"Can-also-introduce-loss-to-reproduction-1.1.3\"><span class=\"toc-item-num\">1.1.3&nbsp;&nbsp;</span>Can also introduce loss to reproduction</a></span></li><li><span><a href=\"#Objectives\" data-toc-modified-id=\"Objectives-1.1.4\"><span class=\"toc-item-num\">1.1.4&nbsp;&nbsp;</span>Objectives</a></span></li></ul></li></ul></li></ul></div>"
   ]
  },
  {
   "cell_type": "markdown",
   "metadata": {},
   "source": [
    "## Derivation - Master Balance Equation (West *et al.*, 2001)\n",
    "### Growth from metabolic energy inflow\n",
    "* $B$ = incoming rate of energy flow, which is the average resting metabolic rate of the whole organism at time $t$\n",
    "* $B_c$ = the metabolic rate of a single cell\n",
    "* $E_c$ = the metabolic energy required to create a cell\n",
    "* $N_c$ = the total number of cells\n",
    "* $\\sum\\limits_c$ = over all types of tissue, assuming a typical cell as the fundamental unit\n",
    "* tells us that dedication to growth **AFTER** metabolism is a fundamental axiom of energy/mass conservation equation\n",
    "* growth is equal to surplus energy because assumed that energy is optimally allocated to growth after miscellaneous costs\n",
    "\\begin{align*}\n",
    "    B &= \\sum_c \\Bigg[N_{c}B_{c} + E_{c}\\frac{dN_{c}}{dt}\\Bigg] \\\\\n",
    "    B &= N_{c}B_{c} + E_{c}\\frac{dN_{c}}{dt} \\\\\n",
    "    \\frac{dN_{c}}{dt} &= \\frac{B - N_{c}B_{c}}{E_{c}} = \\frac{\\text{Surplus energy}}{\\text{Cost of creating single cell}} \\\\\n",
    "    &= \\text{multiply by mass of single cell} \\\\\n",
    "    \\Bigg(\\frac{dN_{c}}{dt}\\Bigg)m_c &= \\Bigg(\\frac{B - N_{c}B_{c}}{E_{c}}\\Bigg)m_c \\\\\n",
    "    \\frac{dm}{dt} &= \\Bigg(\\frac{Bm_c}{E_c}\\Bigg) - \\Bigg(\\frac{N_{c}m_{c}B_{c}}{E_c}\\Bigg) \\\\\n",
    "    \\frac{dm}{dt} &= \\Bigg(\\frac{Bm_c}{E_c}\\Bigg) - \\Bigg(\\frac{m_{tot}B_{c}}{E_c}\\Bigg) \\\\\n",
    "    \\frac{dm}{dt} &= \\Bigg(\\frac{m_c}{E_c}\\Bigg)B - \\Bigg(\\frac{B_{c}}{E_c}\\Bigg)m_{tot} \\\\\n",
    "    \\text{sub } B &= B_{0}m^{3/4}  \\\\\n",
    "    \\frac{dm}{dt} &= \\frac{m_c}{E_c}B_{0}m^{3/4} - \\frac{B_{c}}{E_c}m_{tot} \\\\\n",
    "    \\text{sub } a &= \\frac{m_c}{E_c}B_{0}  \\\\\n",
    "    b &= \\frac{B_{c}}{E_c} \\\\\n",
    "    \\frac{dm}{dt} &= am^{3/4} - bm \\\\\n",
    "\\end{align*}\n",
    "### Surplus is reduced by efficiency of use (ingestion versus energy flow into branching network)\n",
    "* $I$ = consumption rate $\\big(\\frac{mass}{time}\\big)$\n",
    "* $t_I$ = \"characteristic\" time period for \"sufficient\" energy gain\n",
    "* $t_I << t_{growth}$\n",
    "* Need to tackle this time period, we know $t \\propto \\kappa m^{\\gamma}$ i.e. bigger things can spend longer foraging, thus intake more (absolute not relative) \n",
    "* But their digestion is then slower\n",
    "* reasonable bounding of digestion times?\n",
    "* Timescale at level of digestion is different to timescale of growth\n",
    "* You may pass a threshold where you are digesting at maximum rate meaning that you are limited to $3/4$ exponent because limited by fractal dimension of capillary network\n",
    "\\begin{align*}\n",
    "    I_{tot} &= \\int_{t_{start}}^{t_{end}} I dt \\\\\n",
    "    \\frac{m_c}{E_c}B_{0}m^{3/4} &= am^{3/4} \\\\\n",
    "    \\frac{am^{3/4}}{m} &= am^{\\frac{3}{4} - 1} \\\\\n",
    "    \\frac{am^{3/4}}{m} &= am^{-\\frac{1}{4}} \\\\\n",
    "    I_{tot}\\epsilon\\Big(am^{-\\frac{1}{4}}\\Big) \\\\\n",
    "\\end{align*}\n",
    "### Can also introduce loss to reproduction\n",
    "\\begin{align*}\n",
    "    \\frac{dm}{dt} &= I_{tot}\\epsilon\\Big(am^{-\\frac{1}{4}}\\Big) - bm - cm^{\\rho} \\\\\n",
    "\\end{align*}\n",
    "\n",
    "### Objectives\n",
    "* What data to we have? \n",
    "    * intake rate\n",
    "    * digestion rate\n",
    "    * individual growth rate\n",
    "* We want to plug into\n",
    "    * intake rate data\n",
    "* Fit across whole range of fish"
   ]
  }
 ],
 "metadata": {
  "kernelspec": {
   "display_name": "Python 3",
   "language": "python",
   "name": "python3"
  },
  "language_info": {
   "codemirror_mode": {
    "name": "ipython",
    "version": 3
   },
   "file_extension": ".py",
   "mimetype": "text/x-python",
   "name": "python",
   "nbconvert_exporter": "python",
   "pygments_lexer": "ipython3",
   "version": "3.5.2"
  },
  "latex_envs": {
   "LaTeX_envs_menu_present": true,
   "autoclose": false,
   "autocomplete": true,
   "bibliofile": "biblio.bib",
   "cite_by": "apalike",
   "current_citInitial": 1,
   "eqLabelWithNumbers": true,
   "eqNumInitial": 1,
   "hotkeys": {
    "equation": "Ctrl-E",
    "itemize": "Ctrl-I"
   },
   "labels_anchors": false,
   "latex_user_defs": false,
   "report_style_numbering": false,
   "user_envs_cfg": false
  },
  "toc": {
   "base_numbering": 1,
   "nav_menu": {},
   "number_sections": true,
   "sideBar": true,
   "skip_h1_title": false,
   "title_cell": "Table of Contents",
   "title_sidebar": "Contents",
   "toc_cell": true,
   "toc_position": {},
   "toc_section_display": true,
   "toc_window_display": true
  }
 },
 "nbformat": 4,
 "nbformat_minor": 2
}
