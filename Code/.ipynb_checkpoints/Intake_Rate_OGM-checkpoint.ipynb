{
 "cells": [
  {
   "cell_type": "markdown",
   "metadata": {},
   "source": [
    "# Ontogenetic Growth Model - Intake Rate & Hyperallometric Fecundity"
   ]
  },
  {
   "cell_type": "markdown",
   "metadata": {
    "toc": true
   },
   "source": [
    "<h1>Table of Contents<span class=\"tocSkip\"></span></h1>\n",
    "<div class=\"toc\"><ul class=\"toc-item\"><li><span><a href=\"#Ontogenetic-Growth-Model---Intake-Rate-&amp;-Hyperallometric-Fecundity\" data-toc-modified-id=\"Ontogenetic-Growth-Model---Intake-Rate-&amp;-Hyperallometric-Fecundity-1\"><span class=\"toc-item-num\">1&nbsp;&nbsp;</span>Ontogenetic Growth Model - Intake Rate &amp; Hyperallometric Fecundity</a></span><ul class=\"toc-item\"><li><span><a href=\"#Derivation---Master-Balance-Equation-(West-et-al.,-2001)\" data-toc-modified-id=\"Derivation---Master-Balance-Equation-(West-et-al.,-2001)-1.1\"><span class=\"toc-item-num\">1.1&nbsp;&nbsp;</span>Derivation - Master Balance Equation (West <em>et al.</em>, 2001)</a></span><ul class=\"toc-item\"><li><span><a href=\"#Growth-from-metabolic-energy-inflow\" data-toc-modified-id=\"Growth-from-metabolic-energy-inflow-1.1.1\"><span class=\"toc-item-num\">1.1.1&nbsp;&nbsp;</span>Growth from metabolic energy inflow</a></span></li><li><span><a href=\"#Surplus-is-reduced-by-efficiency-of-use-(ingestion-versus-energy-flow-into-branching-network)\" data-toc-modified-id=\"Surplus-is-reduced-by-efficiency-of-use-(ingestion-versus-energy-flow-into-branching-network)-1.1.2\"><span class=\"toc-item-num\">1.1.2&nbsp;&nbsp;</span>Surplus is reduced by efficiency of use (ingestion versus energy flow into branching network)</a></span></li><li><span><a href=\"#Can-also-introduce-loss-to-reproduction\" data-toc-modified-id=\"Can-also-introduce-loss-to-reproduction-1.1.3\"><span class=\"toc-item-num\">1.1.3&nbsp;&nbsp;</span>Can also introduce loss to reproduction</a></span></li><li><span><a href=\"#Objectives/Thoughts\" data-toc-modified-id=\"Objectives/Thoughts-1.1.4\"><span class=\"toc-item-num\">1.1.4&nbsp;&nbsp;</span>Objectives/Thoughts</a></span></li><li><span><a href=\"#Diego's-Paper\" data-toc-modified-id=\"Diego's-Paper-1.1.5\"><span class=\"toc-item-num\">1.1.5&nbsp;&nbsp;</span>Diego's Paper</a></span></li><li><span><a href=\"#Growth-rate\" data-toc-modified-id=\"Growth-rate-1.1.6\"><span class=\"toc-item-num\">1.1.6&nbsp;&nbsp;</span>Growth rate</a></span></li><li><span><a href=\"#Assimilation/Intake\" data-toc-modified-id=\"Assimilation/Intake-1.1.7\"><span class=\"toc-item-num\">1.1.7&nbsp;&nbsp;</span>Assimilation/Intake</a></span></li></ul></li></ul></li></ul></div>"
   ]
  },
  {
   "cell_type": "markdown",
   "metadata": {},
   "source": [
    "## Derivation - Master Balance Equation (West *et al.*, 2001)\n",
    "### Growth from metabolic energy inflow\n",
    "* $B$ = incoming rate of energy flow, which is the average resting metabolic rate of the whole organism at time $t$\n",
    "* $B_c$ = the metabolic rate of a single cell\n",
    "* $E_c$ = the metabolic energy required to create a cell\n",
    "* $N_c$ = the total number of cells\n",
    "* $\\sum\\limits_c$ = over all types of tissue, assuming a typical cell as the fundamental unit\n",
    "* tells us that dedication to growth **AFTER** metabolism is a fundamental axiom of energy/mass conservation equation\n",
    "* growth is equal to surplus energy because assumed that energy is optimally allocated to growth after miscellaneous costs\n",
    "\\begin{align*}\n",
    "    B &= \\sum_c \\Bigg[N_{c}B_{c} + E_{c}\\frac{dN_{c}}{dt}\\Bigg] \\\\\n",
    "    B &= N_{c}B_{c} + E_{c}\\frac{dN_{c}}{dt} \\\\\n",
    "    \\frac{dN_{c}}{dt} &= \\frac{B - N_{c}B_{c}}{E_{c}} = \\frac{\\text{Surplus energy}}{\\text{Cost of creating single cell}} \\\\\n",
    "    &= \\text{multiply by mass of single cell} \\\\\n",
    "    \\Bigg(\\frac{dN_{c}}{dt}\\Bigg)m_c &= \\Bigg(\\frac{B - N_{c}B_{c}}{E_{c}}\\Bigg)m_c \\\\\n",
    "    \\frac{dm}{dt} &= \\Bigg(\\frac{Bm_c}{E_c}\\Bigg) - \\Bigg(\\frac{N_{c}m_{c}B_{c}}{E_c}\\Bigg) \\\\\n",
    "    \\frac{dm}{dt} &= \\Bigg(\\frac{Bm_c}{E_c}\\Bigg) - \\Bigg(\\frac{m_{tot}B_{c}}{E_c}\\Bigg) \\\\\n",
    "    \\frac{dm}{dt} &= \\Bigg(\\frac{m_c}{E_c}\\Bigg)B - \\Bigg(\\frac{B_{c}}{E_c}\\Bigg)m_{tot} \\\\\n",
    "    \\text{sub } B &= B_{0}m^{3/4}  \\\\\n",
    "    \\frac{dm}{dt} &= \\frac{m_c}{E_c}B_{0}m^{3/4} - \\frac{B_{c}}{E_c}m_{tot} \\\\\n",
    "    \\text{sub } a &= \\frac{m_c}{E_c}B_{0}  \\\\\n",
    "    b &= \\frac{B_{c}}{E_c} \\\\\n",
    "    \\frac{dm}{dt} &= am^{3/4} - bm \\\\\n",
    "\\end{align*}\n",
    "### Surplus is reduced by efficiency of use (ingestion versus energy flow into branching network)\n",
    "* $I$ = consumption rate $\\big(\\frac{mass}{time}\\big)$\n",
    "* $t_I$ = \"characteristic\" time period for \"sufficient\" energy gain\n",
    "* $t_I << t_{growth}$\n",
    "* Need to tackle this time period, we know $t \\propto \\kappa m^{\\gamma}$ i.e. bigger things can spend longer foraging, thus intake more (absolute not relative) \n",
    "* But their digestion is then slower\n",
    "* reasonable bounding of digestion times?\n",
    "* Timescale at level of digestion is different to timescale of growth\n",
    "* You may pass a threshold where you are digesting at maximum rate meaning that you are limited to $3/4$ exponent because limited by fractal dimension of capillary network\n",
    "* Intake is the amount of energy flowing through your network and to your cells\n",
    "* Intake rate cannot be optimised since it's what the environment gives you, then you can decide on your reproductive output - timing and amount\n",
    "\\begin{align*}\n",
    "    I_{tot} &= \\int_{t_{start}}^{t_{end}} I dt \\\\\n",
    "    \\frac{m_c}{E_c}B_{0}m^{3/4} &= am^{3/4} \\\\\n",
    "    \\frac{am^{3/4}}{m} &= am^{\\frac{3}{4} - 1} \\\\\n",
    "    \\frac{am^{3/4}}{m} &= am^{-\\frac{1}{4}} \\\\\n",
    "    I_{tot}\\epsilon\\Big(am^{-\\frac{1}{4}}\\Big) \\\\\n",
    "\\end{align*}\n",
    "\n",
    "* Intake rate\n",
    "    * Intake rate scales with mass i.e. $I \\propto m^{\\gamma}$ or $I = I_{0}m^{\\gamma}$\n",
    "    * Total intake is intake rate * time i.e. $\\frac{\\text{mass}}{\\text{time}}\\cdot\\text{time}$\n",
    "    * time spent intaking/foraging also scales with mass i.e. $t \\propto m^{\\psi}$ or $t = t_{0}m^{\\psi}$\n",
    "\\begin{align*}\n",
    "    \\text{Intake rate} &= I_{0}m^{\\gamma} \\\\\n",
    "    \\text{Total intake} &= I_{0}m^{\\gamma}*t \\\\\n",
    "    \\text{Total intake} &= I_{0}m^{\\gamma}t_{0}m^{\\psi} \\\\\n",
    "    \\text{Total intake, } I_{tot} &= I_{0}t_{0}m^{\\gamma + \\psi}\n",
    "\\end{align*}\n",
    "* Which in effect is \"mass-specific intrinsic distribution of resources\"\n",
    "### Can also introduce loss to reproduction\n",
    "\\begin{align*}\n",
    "    \\frac{dm}{dt} &= I_{tot}\\epsilon\\Big(am^{-\\frac{1}{4}}\\Big) - bm - cm^{\\rho} \\\\\n",
    "    \\frac{dm}{dt} &= I_{0}t_{0}m^{\\gamma + \\psi}\\epsilon\\Big(am^{-\\frac{1}{4}}\\Big) - bm - cm^{\\rho} \\\\\n",
    "    \\frac{dm}{dt} &= I_{0}t_{0}\\epsilon am^{\\gamma + \\psi}\\Big(m^{-\\frac{1}{4}}\\Big) - bm - cm^{\\rho} \\\\\n",
    "    \\text{let } a_0 &= I_{0}t_{0}\\epsilon a \\\\\n",
    "    \\frac{dm}{dt} &= a_{0}m^{\\gamma + \\psi -\\frac{1}{4}} - bm - cm^{\\rho} \\\\\n",
    "\\end{align*}\n",
    "### Objectives/Thoughts\n",
    "* What data to we have? \n",
    "    * intake rate\n",
    "    * digestion rate\n",
    "    * individual growth rate\n",
    "* We want to plug into\n",
    "    * intake rate data\n",
    "* Fit across whole range of fish\n",
    "* Parameterisation \n",
    "* What are we optimising\n",
    "* Shrinking fish -they would never grow to a size where they would then have to shrink"
   ]
  },
  {
   "cell_type": "markdown",
   "metadata": {},
   "source": [
    "### Life history assumption is that we are always maximising lifetime reproductive output\n",
    "\\begin{align*}\n",
    "    \\text{MAXIMISE} \\int_{\\alpha}^{\\infty}L_{x}M_{x} dt \\\\\n",
    "    m_{x} &= cm^{\\rho}\n",
    "\\end{align*}"
   ]
  },
  {
   "cell_type": "markdown",
   "metadata": {},
   "source": [
    "### Diego's Paper\n",
    "* if assimilation (or total intake) is a function of mass: $A(m)$\n",
    "* $E_c =$ combustion energy of biomass\n",
    "* $B_{tot} =$ total (i.e. field) metabolic rate = $\\sum B_{rest} + B_{act}$ which sustains locomotion, feeding and other activities\n",
    "* $B_{tot} = fB_{rest}$\n",
    "* $f$ = dimensionless parameter \"activity scope\" or \"factorial aerobic scope\" - ratio of resting to active metabolism\n",
    "\n",
    "### Growth rate\n",
    "\\begin{align*}\n",
    "    \\frac{dm}{dt} &= \\frac{B_r}{E_m}\\Bigg[1 - \\Big(\\frac{m}{M}\\Big)^{1-\\alpha}\\Bigg]\n",
    "    \\frac{dm}{dt} &= \\frac{B_{0}(T)}{E_m}m^{\\alpha}\\Bigg[1 - \\Big(\\frac{m}{M}\\Big)^{1-\\alpha}\\Bigg]\n",
    "\\end{align*}\n",
    "\n",
    "### Assimilation/Intake\n",
    "\\begin{align*}\n",
    "    A(m) &= B_{tot} + E_{c}\\frac{dm}{dt} = fB_{r} + E_{c}\\frac{B_{r}}{E_{m}}\\Bigg[1 - \\Big(\\frac{m}{M}\\Big)^{1-\\alpha}\\Bigg] \\\\   \n",
    "    A(m) &= B_{0}(T)m^{\\alpha}\\Bigg[f+\\frac{E_{c}}{E_{m}}\\Bigg[1 - \\Big(\\frac{m}{M}\\Big)^{1-\\alpha}\\Bigg]\\Bigg] \\\\\n",
    "    \\text{ignore T for now} \\\\\n",
    "    \\text{substitute } I_{tot}\\epsilon \\text{ for assimilation} \\\\\n",
    "    I_{tot}\\epsilon &= B_{0}(T)m^{\\alpha}\\Bigg[f+\\frac{E_{c}}{E_{m}}\\Bigg[1 - \\Big(\\frac{m}{M}\\Big)^{1-\\alpha}\\Bigg]\\Bigg] \\\\\n",
    "    \\text{sub in  } \\frac{dm}{dt} &= \\frac{B_{0}(T)}{E_m}m^{\\alpha}\\Bigg[1 - \\Big(\\frac{m}{M}\\Big)^{1-\\alpha}\\Bigg] \\\\\n",
    "    I_{tot}\\epsilon &= B_{0}m^{\\alpha}f + E_{c}\\frac{dm}{dt} \\\\\n",
    "    \\frac{dm}{dt} &= \\frac{I_{tot}\\epsilon-B_{0}m^{\\alpha}f}{E_{c}} \\\\\n",
    "    \\frac{dm}{dt} &= \\frac{a_{0}m^{\\gamma + \\psi -\\frac{1}{4}}-B_{0}m^{\\alpha}f}{E_{c}} \\\\\n",
    "    \\text{substitute } a_0 &= I_{0}t_{0}\\epsilon a \\\\\n",
    "    \\frac{dm}{dt} &= \\frac{a_0m^{\\gamma + \\psi -\\frac{1}{4}} a-B_{0}m^{\\alpha}f}{E_{c}}\n",
    "\\end{align*}"
   ]
  }
 ],
 "metadata": {
  "kernelspec": {
   "display_name": "Python 3",
   "language": "python",
   "name": "python3"
  },
  "language_info": {
   "codemirror_mode": {
    "name": "ipython",
    "version": 3
   },
   "file_extension": ".py",
   "mimetype": "text/x-python",
   "name": "python",
   "nbconvert_exporter": "python",
   "pygments_lexer": "ipython3",
   "version": "3.5.2"
  },
  "latex_envs": {
   "LaTeX_envs_menu_present": true,
   "autoclose": false,
   "autocomplete": true,
   "bibliofile": "biblio.bib",
   "cite_by": "apalike",
   "current_citInitial": 1,
   "eqLabelWithNumbers": true,
   "eqNumInitial": 1,
   "hotkeys": {
    "equation": "Ctrl-E",
    "itemize": "Ctrl-I"
   },
   "labels_anchors": false,
   "latex_user_defs": false,
   "report_style_numbering": false,
   "user_envs_cfg": false
  },
  "toc": {
   "base_numbering": 1,
   "nav_menu": {},
   "number_sections": true,
   "sideBar": true,
   "skip_h1_title": false,
   "title_cell": "Table of Contents",
   "title_sidebar": "Contents",
   "toc_cell": true,
   "toc_position": {},
   "toc_section_display": true,
   "toc_window_display": true
  }
 },
 "nbformat": 4,
 "nbformat_minor": 2
}
