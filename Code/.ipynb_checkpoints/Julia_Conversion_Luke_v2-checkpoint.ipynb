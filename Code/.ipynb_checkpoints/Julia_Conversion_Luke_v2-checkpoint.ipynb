{
 "cells": [
  {
   "cell_type": "markdown",
   "metadata": {},
   "source": [
    "# Growth model\n",
    "\n",
    "Here i simulate the basic growth model used by Charnov ect...\n",
    "\n",
    "$$\n",
    "\\frac{dM}{dt} = aM^{\\beta} - bM - cM^{\\gamma}\n",
    "$$\n",
    "\n",
    "where $aM^{\\beta}$ is energy intake with its mass scaling exponent, $bM$ is maintenece metabolism and $cM^{\\gamma}$ is reproductive output.\n",
    "\n",
    "the fitness ($R_0$) of an individual growing according to the model above can be obtained by integrating their reproductive output over time, including thier mortaility L(M):\n",
    "\n",
    "$$\n",
    "R_0 = \\int_0^\\infty cM^{\\beta} L(M,t) dt\n",
    "$$\n",
    "\n",
    "This mortality function is set to an exponential decay function here:\n",
    "\n",
    "$$\n",
    "L(M,t) = e^{-\\lambda Mt}\n",
    "$$\n",
    "\n",
    "where $\\lambda$ is a rate parameter controling the rate at which the likelyhood of survival decreases.\n",
    "\n",
    "I also consider the \"switching on\" of reproduction at some mass $M_{\\alpha}$. This occurs instantly with a piecewise funtion for growth. "
   ]
  },
  {
   "cell_type": "code",
   "execution_count": 445,
   "metadata": {
    "scrolled": false
   },
   "outputs": [],
   "source": [
    "using Pkg\n",
    "# import Pkg; Pkg.add(\"DifferentialEquations\")\n",
    "# import Pkg; Pkg.add(\"DiffEqCallbacks\")\n",
    "# import Pkg; Pkg.add(\"Plots\")\n",
    "# Pkg.add(\"PGFPlots\")\n",
    "Pkg.activate(\"..\")\n",
    "\n",
    "using DifferentialEquations, DiffEqCallbacks, Plots, Printf, LaTeXStrings"
   ]
  },
  {
   "cell_type": "code",
   "execution_count": 461,
   "metadata": {},
   "outputs": [
    {
     "data": {
      "text/plain": [
       "dM (generic function with 1 method)"
      ]
     },
     "execution_count": 461,
     "metadata": {},
     "output_type": "execute_result"
    }
   ],
   "source": [
    "function dM(dM,M,p,t)\n",
    "    intak = p[:a_0] * (abs(M[1]) ^ p[:a_b])\n",
    "    maint = p[:b_0] * (abs(M[1]) ^ p[:b_b])\n",
    "\n",
    "    if t < p[:Alph] \n",
    "        repro = 0.0\n",
    "    else\n",
    "        repro = p[:c_0] * (abs(M[1]) ^ p[:c_b])\n",
    "        \n",
    "        end\n",
    "        \n",
    "    dM[1] = intak - maint - repro\n",
    "    dM[2] = repro * exp(-(p[:k]+p[:Z])*(t-p[:Alph]))    \n",
    "end"
   ]
  },
  {
   "cell_type": "code",
   "execution_count": 477,
   "metadata": {},
   "outputs": [
    {
     "data": {
      "text/plain": [
       "0:10:100"
      ]
     },
     "execution_count": 477,
     "metadata": {},
     "output_type": "execute_result"
    }
   ],
   "source": [
    "hypothetical_starting_mass = 0.1\n",
    "hypothetical_asymptotic_mass = 25000\n",
    "hypothetical_starting_reproduction = 0 #c * (hypothetical_starting_mass)^ rho\n",
    "a = 0.02; a_b = 0.85\n",
    "b = a/(hypothetical_asymptotic_mass^0.25)\n",
    "c = 0.001 # West et al. assume 0.1 from Peters\n",
    "alpha = 0.00000001\n",
    "k_vec = [0.01, 0.1]\n",
    "a_b_vec = [0.75, 0.85]\n",
    "resolution = 100\n",
    "c_vec = range(0.001,0.5,length = resolution)\n",
    "c_b_vec = range(0.001,1.25,length = resolution)\n",
    "xticks = 0:10:100\n",
    "yticks = 0:10:100"
   ]
  },
  {
   "cell_type": "code",
   "execution_count": 478,
   "metadata": {
    "scrolled": false
   },
   "outputs": [
    {
     "name": "stderr",
     "output_type": "stream",
     "text": [
      "┌ Warning: Instability detected. Aborting\n",
      "└ @ DiffEqBase /home/lvassor/.julia/packages/DiffEqBase/LCorD/src/integrator_interface.jl:162\n",
      "┌ Warning: Instability detected. Aborting\n",
      "└ @ DiffEqBase /home/lvassor/.julia/packages/DiffEqBase/LCorD/src/integrator_interface.jl:162\n",
      "┌ Warning: Instability detected. Aborting\n",
      "└ @ DiffEqBase /home/lvassor/.julia/packages/DiffEqBase/LCorD/src/integrator_interface.jl:162\n",
      "┌ Warning: Instability detected. Aborting\n",
      "└ @ DiffEqBase /home/lvassor/.julia/packages/DiffEqBase/LCorD/src/integrator_interface.jl:162\n",
      "┌ Warning: Instability detected. Aborting\n",
      "└ @ DiffEqBase /home/lvassor/.julia/packages/DiffEqBase/LCorD/src/integrator_interface.jl:162\n",
      "┌ Warning: Instability detected. Aborting\n",
      "└ @ DiffEqBase /home/lvassor/.julia/packages/DiffEqBase/LCorD/src/integrator_interface.jl:162\n",
      "┌ Warning: Instability detected. Aborting\n",
      "└ @ DiffEqBase /home/lvassor/.julia/packages/DiffEqBase/LCorD/src/integrator_interface.jl:162\n",
      "┌ Warning: Instability detected. Aborting\n",
      "└ @ DiffEqBase /home/lvassor/.julia/packages/DiffEqBase/LCorD/src/integrator_interface.jl:162\n",
      "┌ Warning: Instability detected. Aborting\n",
      "└ @ DiffEqBase /home/lvassor/.julia/packages/DiffEqBase/LCorD/src/integrator_interface.jl:162\n",
      "┌ Warning: Instability detected. Aborting\n",
      "└ @ DiffEqBase /home/lvassor/.julia/packages/DiffEqBase/LCorD/src/integrator_interface.jl:162\n"
     ]
    },
    {
     "ename": "InterruptException",
     "evalue": "InterruptException:",
     "output_type": "error",
     "traceback": [
      "InterruptException:",
      "",
      "Stacktrace:",
      " [1] Type at /home/lvassor/.julia/packages/DiffEqBase/LCorD/src/diffeqfastbc.jl:4 [inlined] (repeats 2 times)",
      " [2] diffeqbc at /home/lvassor/.julia/packages/DiffEqBase/LCorD/src/diffeqfastbc.jl:14 [inlined]",
      " [3] macro expansion at /home/lvassor/.julia/packages/DiffEqBase/LCorD/src/diffeqfastbc.jl:78 [inlined]",
      " [4] perform_step!(::OrdinaryDiffEq.ODEIntegrator{Rosenbrock23{0,true,DefaultLinSolve,DataType},true,Array{Float64,1},Float64,Dict{Symbol,Float64},Float64,Float64,Float64,Array{Array{Float64,1},1},ODESolution{Float64,2,Array{Array{Float64,1},1},Nothing,Nothing,Array{Float64,1},Array{Array{Array{Float64,1},1},1},ODEProblem{Array{Float64,1},Tuple{Float64,Float64},true,Dict{Symbol,Float64},ODEFunction{true,typeof(dM),LinearAlgebra.UniformScaling{Bool},Nothing,Nothing,Nothing,Nothing,Nothing,Nothing,Nothing,Nothing,Nothing},Nothing,DiffEqBase.StandardODEProblem},Rosenbrock23{0,true,DefaultLinSolve,DataType},OrdinaryDiffEq.InterpolationData{ODEFunction{true,typeof(dM),LinearAlgebra.UniformScaling{Bool},Nothing,Nothing,Nothing,Nothing,Nothing,Nothing,Nothing,Nothing,Nothing},Array{Array{Float64,1},1},Array{Float64,1},Array{Array{Array{Float64,1},1},1},OrdinaryDiffEq.Rosenbrock23Cache{Array{Float64,1},Array{Float64,1},Array{Float64,2},Array{Float64,2},OrdinaryDiffEq.Rosenbrock23ConstantCache{Float64,typeof(identity),typeof(identity)},DiffEqDiffTools.TimeGradientWrapper{ODEFunction{true,typeof(dM),LinearAlgebra.UniformScaling{Bool},Nothing,Nothing,Nothing,Nothing,Nothing,Nothing,Nothing,Nothing,Nothing},Array{Float64,1},Dict{Symbol,Float64}},DiffEqDiffTools.UJacobianWrapper{ODEFunction{true,typeof(dM),LinearAlgebra.UniformScaling{Bool},Nothing,Nothing,Nothing,Nothing,Nothing,Nothing,Nothing,Nothing,Nothing},Float64,Dict{Symbol,Float64}},DefaultLinSolve,ForwardDiff.JacobianConfig{ForwardDiff.Tag{DiffEqDiffTools.UJacobianWrapper{ODEFunction{true,typeof(dM),LinearAlgebra.UniformScaling{Bool},Nothing,Nothing,Nothing,Nothing,Nothing,Nothing,Nothing,Nothing,Nothing},Float64,Dict{Symbol,Float64}},Float64},Float64,2,Tuple{Array{ForwardDiff.Dual{ForwardDiff.Tag{DiffEqDiffTools.UJacobianWrapper{ODEFunction{true,typeof(dM),LinearAlgebra.UniformScaling{Bool},Nothing,Nothing,Nothing,Nothing,Nothing,Nothing,Nothing,Nothing,Nothing},Float64,Dict{Symbol,Float64}},Float64},Float64,2},1},Array{ForwardDiff.Dual{ForwardDiff.Tag{DiffEqDiffTools.UJacobianWrapper{ODEFunction{true,typeof(dM),LinearAlgebra.UniformScaling{Bool},Nothing,Nothing,Nothing,Nothing,Nothing,Nothing,Nothing,Nothing,Nothing},Float64,Dict{Symbol,Float64}},Float64},Float64,2},1}}},ForwardDiff.DerivativeConfig{ForwardDiff.Tag{DiffEqDiffTools.TimeGradientWrapper{ODEFunction{true,typeof(dM),LinearAlgebra.UniformScaling{Bool},Nothing,Nothing,Nothing,Nothing,Nothing,Nothing,Nothing,Nothing,Nothing},Array{Float64,1},Dict{Symbol,Float64}},Float64},Array{ForwardDiff.Dual{ForwardDiff.Tag{DiffEqDiffTools.TimeGradientWrapper{ODEFunction{true,typeof(dM),LinearAlgebra.UniformScaling{Bool},Nothing,Nothing,Nothing,Nothing,Nothing,Nothing,Nothing,Nothing,Nothing},Array{Float64,1},Dict{Symbol,Float64}},Float64},Float64,1},1}}}},DiffEqBase.DEStats},ODEFunction{true,typeof(dM),LinearAlgebra.UniformScaling{Bool},Nothing,Nothing,Nothing,Nothing,Nothing,Nothing,Nothing,Nothing,Nothing},OrdinaryDiffEq.Rosenbrock23Cache{Array{Float64,1},Array{Float64,1},Array{Float64,2},Array{Float64,2},OrdinaryDiffEq.Rosenbrock23ConstantCache{Float64,typeof(identity),typeof(identity)},DiffEqDiffTools.TimeGradientWrapper{ODEFunction{true,typeof(dM),LinearAlgebra.UniformScaling{Bool},Nothing,Nothing,Nothing,Nothing,Nothing,Nothing,Nothing,Nothing,Nothing},Array{Float64,1},Dict{Symbol,Float64}},DiffEqDiffTools.UJacobianWrapper{ODEFunction{true,typeof(dM),LinearAlgebra.UniformScaling{Bool},Nothing,Nothing,Nothing,Nothing,Nothing,Nothing,Nothing,Nothing,Nothing},Float64,Dict{Symbol,Float64}},DefaultLinSolve,ForwardDiff.JacobianConfig{ForwardDiff.Tag{DiffEqDiffTools.UJacobianWrapper{ODEFunction{true,typeof(dM),LinearAlgebra.UniformScaling{Bool},Nothing,Nothing,Nothing,Nothing,Nothing,Nothing,Nothing,Nothing,Nothing},Float64,Dict{Symbol,Float64}},Float64},Float64,2,Tuple{Array{ForwardDiff.Dual{ForwardDiff.Tag{DiffEqDiffTools.UJacobianWrapper{ODEFunction{true,typeof(dM),LinearAlgebra.UniformScaling{Bool},Nothing,Nothing,Nothing,Nothing,Nothing,Nothing,Nothing,Nothing,Nothing},Float64,Dict{Symbol,Float64}},Float64},Float64,2},1},Array{ForwardDiff.Dual{ForwardDiff.Tag{DiffEqDiffTools.UJacobianWrapper{ODEFunction{true,typeof(dM),LinearAlgebra.UniformScaling{Bool},Nothing,Nothing,Nothing,Nothing,Nothing,Nothing,Nothing,Nothing,Nothing},Float64,Dict{Symbol,Float64}},Float64},Float64,2},1}}},ForwardDiff.DerivativeConfig{ForwardDiff.Tag{DiffEqDiffTools.TimeGradientWrapper{ODEFunction{true,typeof(dM),LinearAlgebra.UniformScaling{Bool},Nothing,Nothing,Nothing,Nothing,Nothing,Nothing,Nothing,Nothing,Nothing},Array{Float64,1},Dict{Symbol,Float64}},Float64},Array{ForwardDiff.Dual{ForwardDiff.Tag{DiffEqDiffTools.TimeGradientWrapper{ODEFunction{true,typeof(dM),LinearAlgebra.UniformScaling{Bool},Nothing,Nothing,Nothing,Nothing,Nothing,Nothing,Nothing,Nothing,Nothing},Array{Float64,1},Dict{Symbol,Float64}},Float64},Float64,1},1}}},OrdinaryDiffEq.DEOptions{Float64,Float64,Float64,Float64,typeof(DiffEqBase.ODE_DEFAULT_NORM),typeof(LinearAlgebra.opnorm),CallbackSet{Tuple{},Tuple{}},typeof(DiffEqBase.ODE_DEFAULT_ISOUTOFDOMAIN),typeof(DiffEqBase.ODE_DEFAULT_PROG_MESSAGE),typeof(DiffEqBase.ODE_DEFAULT_UNSTABLE_CHECK),DataStructures.BinaryHeap{Float64,DataStructures.LessThan},DataStructures.BinaryHeap{Float64,DataStructures.LessThan},Nothing,Nothing,Int64,Array{Float64,1},Array{Float64,1},Array{Float64,1}},Array{Float64,1},Float64,Nothing}, ::OrdinaryDiffEq.Rosenbrock23Cache{Array{Float64,1},Array{Float64,1},Array{Float64,2},Array{Float64,2},OrdinaryDiffEq.Rosenbrock23ConstantCache{Float64,typeof(identity),typeof(identity)},DiffEqDiffTools.TimeGradientWrapper{ODEFunction{true,typeof(dM),LinearAlgebra.UniformScaling{Bool},Nothing,Nothing,Nothing,Nothing,Nothing,Nothing,Nothing,Nothing,Nothing},Array{Float64,1},Dict{Symbol,Float64}},DiffEqDiffTools.UJacobianWrapper{ODEFunction{true,typeof(dM),LinearAlgebra.UniformScaling{Bool},Nothing,Nothing,Nothing,Nothing,Nothing,Nothing,Nothing,Nothing,Nothing},Float64,Dict{Symbol,Float64}},DefaultLinSolve,ForwardDiff.JacobianConfig{ForwardDiff.Tag{DiffEqDiffTools.UJacobianWrapper{ODEFunction{true,typeof(dM),LinearAlgebra.UniformScaling{Bool},Nothing,Nothing,Nothing,Nothing,Nothing,Nothing,Nothing,Nothing,Nothing},Float64,Dict{Symbol,Float64}},Float64},Float64,2,Tuple{Array{ForwardDiff.Dual{ForwardDiff.Tag{DiffEqDiffTools.UJacobianWrapper{ODEFunction{true,typeof(dM),LinearAlgebra.UniformScaling{Bool},Nothing,Nothing,Nothing,Nothing,Nothing,Nothing,Nothing,Nothing,Nothing},Float64,Dict{Symbol,Float64}},Float64},Float64,2},1},Array{ForwardDiff.Dual{ForwardDiff.Tag{DiffEqDiffTools.UJacobianWrapper{ODEFunction{true,typeof(dM),LinearAlgebra.UniformScaling{Bool},Nothing,Nothing,Nothing,Nothing,Nothing,Nothing,Nothing,Nothing,Nothing},Float64,Dict{Symbol,Float64}},Float64},Float64,2},1}}},ForwardDiff.DerivativeConfig{ForwardDiff.Tag{DiffEqDiffTools.TimeGradientWrapper{ODEFunction{true,typeof(dM),LinearAlgebra.UniformScaling{Bool},Nothing,Nothing,Nothing,Nothing,Nothing,Nothing,Nothing,Nothing,Nothing},Array{Float64,1},Dict{Symbol,Float64}},Float64},Array{ForwardDiff.Dual{ForwardDiff.Tag{DiffEqDiffTools.TimeGradientWrapper{ODEFunction{true,typeof(dM),LinearAlgebra.UniformScaling{Bool},Nothing,Nothing,Nothing,Nothing,Nothing,Nothing,Nothing,Nothing,Nothing},Array{Float64,1},Dict{Symbol,Float64}},Float64},Float64,1},1}}}, ::Bool) at /home/lvassor/.julia/packages/OrdinaryDiffEq/aTiKO/src/perform_step/rosenbrock_perform_step.jl:61",
      " [5] perform_step! at /home/lvassor/.julia/packages/OrdinaryDiffEq/aTiKO/src/perform_step/rosenbrock_perform_step.jl:27 [inlined]",
      " [6] solve!(::OrdinaryDiffEq.ODEIntegrator{Rosenbrock23{0,true,DefaultLinSolve,DataType},true,Array{Float64,1},Float64,Dict{Symbol,Float64},Float64,Float64,Float64,Array{Array{Float64,1},1},ODESolution{Float64,2,Array{Array{Float64,1},1},Nothing,Nothing,Array{Float64,1},Array{Array{Array{Float64,1},1},1},ODEProblem{Array{Float64,1},Tuple{Float64,Float64},true,Dict{Symbol,Float64},ODEFunction{true,typeof(dM),LinearAlgebra.UniformScaling{Bool},Nothing,Nothing,Nothing,Nothing,Nothing,Nothing,Nothing,Nothing,Nothing},Nothing,DiffEqBase.StandardODEProblem},Rosenbrock23{0,true,DefaultLinSolve,DataType},OrdinaryDiffEq.InterpolationData{ODEFunction{true,typeof(dM),LinearAlgebra.UniformScaling{Bool},Nothing,Nothing,Nothing,Nothing,Nothing,Nothing,Nothing,Nothing,Nothing},Array{Array{Float64,1},1},Array{Float64,1},Array{Array{Array{Float64,1},1},1},OrdinaryDiffEq.Rosenbrock23Cache{Array{Float64,1},Array{Float64,1},Array{Float64,2},Array{Float64,2},OrdinaryDiffEq.Rosenbrock23ConstantCache{Float64,typeof(identity),typeof(identity)},DiffEqDiffTools.TimeGradientWrapper{ODEFunction{true,typeof(dM),LinearAlgebra.UniformScaling{Bool},Nothing,Nothing,Nothing,Nothing,Nothing,Nothing,Nothing,Nothing,Nothing},Array{Float64,1},Dict{Symbol,Float64}},DiffEqDiffTools.UJacobianWrapper{ODEFunction{true,typeof(dM),LinearAlgebra.UniformScaling{Bool},Nothing,Nothing,Nothing,Nothing,Nothing,Nothing,Nothing,Nothing,Nothing},Float64,Dict{Symbol,Float64}},DefaultLinSolve,ForwardDiff.JacobianConfig{ForwardDiff.Tag{DiffEqDiffTools.UJacobianWrapper{ODEFunction{true,typeof(dM),LinearAlgebra.UniformScaling{Bool},Nothing,Nothing,Nothing,Nothing,Nothing,Nothing,Nothing,Nothing,Nothing},Float64,Dict{Symbol,Float64}},Float64},Float64,2,Tuple{Array{ForwardDiff.Dual{ForwardDiff.Tag{DiffEqDiffTools.UJacobianWrapper{ODEFunction{true,typeof(dM),LinearAlgebra.UniformScaling{Bool},Nothing,Nothing,Nothing,Nothing,Nothing,Nothing,Nothing,Nothing,Nothing},Float64,Dict{Symbol,Float64}},Float64},Float64,2},1},Array{ForwardDiff.Dual{ForwardDiff.Tag{DiffEqDiffTools.UJacobianWrapper{ODEFunction{true,typeof(dM),LinearAlgebra.UniformScaling{Bool},Nothing,Nothing,Nothing,Nothing,Nothing,Nothing,Nothing,Nothing,Nothing},Float64,Dict{Symbol,Float64}},Float64},Float64,2},1}}},ForwardDiff.DerivativeConfig{ForwardDiff.Tag{DiffEqDiffTools.TimeGradientWrapper{ODEFunction{true,typeof(dM),LinearAlgebra.UniformScaling{Bool},Nothing,Nothing,Nothing,Nothing,Nothing,Nothing,Nothing,Nothing,Nothing},Array{Float64,1},Dict{Symbol,Float64}},Float64},Array{ForwardDiff.Dual{ForwardDiff.Tag{DiffEqDiffTools.TimeGradientWrapper{ODEFunction{true,typeof(dM),LinearAlgebra.UniformScaling{Bool},Nothing,Nothing,Nothing,Nothing,Nothing,Nothing,Nothing,Nothing,Nothing},Array{Float64,1},Dict{Symbol,Float64}},Float64},Float64,1},1}}}},DiffEqBase.DEStats},ODEFunction{true,typeof(dM),LinearAlgebra.UniformScaling{Bool},Nothing,Nothing,Nothing,Nothing,Nothing,Nothing,Nothing,Nothing,Nothing},OrdinaryDiffEq.Rosenbrock23Cache{Array{Float64,1},Array{Float64,1},Array{Float64,2},Array{Float64,2},OrdinaryDiffEq.Rosenbrock23ConstantCache{Float64,typeof(identity),typeof(identity)},DiffEqDiffTools.TimeGradientWrapper{ODEFunction{true,typeof(dM),LinearAlgebra.UniformScaling{Bool},Nothing,Nothing,Nothing,Nothing,Nothing,Nothing,Nothing,Nothing,Nothing},Array{Float64,1},Dict{Symbol,Float64}},DiffEqDiffTools.UJacobianWrapper{ODEFunction{true,typeof(dM),LinearAlgebra.UniformScaling{Bool},Nothing,Nothing,Nothing,Nothing,Nothing,Nothing,Nothing,Nothing,Nothing},Float64,Dict{Symbol,Float64}},DefaultLinSolve,ForwardDiff.JacobianConfig{ForwardDiff.Tag{DiffEqDiffTools.UJacobianWrapper{ODEFunction{true,typeof(dM),LinearAlgebra.UniformScaling{Bool},Nothing,Nothing,Nothing,Nothing,Nothing,Nothing,Nothing,Nothing,Nothing},Float64,Dict{Symbol,Float64}},Float64},Float64,2,Tuple{Array{ForwardDiff.Dual{ForwardDiff.Tag{DiffEqDiffTools.UJacobianWrapper{ODEFunction{true,typeof(dM),LinearAlgebra.UniformScaling{Bool},Nothing,Nothing,Nothing,Nothing,Nothing,Nothing,Nothing,Nothing,Nothing},Float64,Dict{Symbol,Float64}},Float64},Float64,2},1},Array{ForwardDiff.Dual{ForwardDiff.Tag{DiffEqDiffTools.UJacobianWrapper{ODEFunction{true,typeof(dM),LinearAlgebra.UniformScaling{Bool},Nothing,Nothing,Nothing,Nothing,Nothing,Nothing,Nothing,Nothing,Nothing},Float64,Dict{Symbol,Float64}},Float64},Float64,2},1}}},ForwardDiff.DerivativeConfig{ForwardDiff.Tag{DiffEqDiffTools.TimeGradientWrapper{ODEFunction{true,typeof(dM),LinearAlgebra.UniformScaling{Bool},Nothing,Nothing,Nothing,Nothing,Nothing,Nothing,Nothing,Nothing,Nothing},Array{Float64,1},Dict{Symbol,Float64}},Float64},Array{ForwardDiff.Dual{ForwardDiff.Tag{DiffEqDiffTools.TimeGradientWrapper{ODEFunction{true,typeof(dM),LinearAlgebra.UniformScaling{Bool},Nothing,Nothing,Nothing,Nothing,Nothing,Nothing,Nothing,Nothing,Nothing},Array{Float64,1},Dict{Symbol,Float64}},Float64},Float64,1},1}}},OrdinaryDiffEq.DEOptions{Float64,Float64,Float64,Float64,typeof(DiffEqBase.ODE_DEFAULT_NORM),typeof(LinearAlgebra.opnorm),CallbackSet{Tuple{},Tuple{}},typeof(DiffEqBase.ODE_DEFAULT_ISOUTOFDOMAIN),typeof(DiffEqBase.ODE_DEFAULT_PROG_MESSAGE),typeof(DiffEqBase.ODE_DEFAULT_UNSTABLE_CHECK),DataStructures.BinaryHeap{Float64,DataStructures.LessThan},DataStructures.BinaryHeap{Float64,DataStructures.LessThan},Nothing,Nothing,Int64,Array{Float64,1},Array{Float64,1},Array{Float64,1}},Array{Float64,1},Float64,Nothing}) at /home/lvassor/.julia/packages/OrdinaryDiffEq/aTiKO/src/solve.jl:354",
      " [7] #__solve#348(::Base.Iterators.Pairs{Union{},Union{},Tuple{},NamedTuple{(),Tuple{}}}, ::Function, ::ODEProblem{Array{Float64,1},Tuple{Float64,Float64},true,Dict{Symbol,Float64},ODEFunction{true,typeof(dM),LinearAlgebra.UniformScaling{Bool},Nothing,Nothing,Nothing,Nothing,Nothing,Nothing,Nothing,Nothing,Nothing},Nothing,DiffEqBase.StandardODEProblem}, ::Rosenbrock23{0,true,DefaultLinSolve,DataType}) at /home/lvassor/.julia/packages/OrdinaryDiffEq/aTiKO/src/solve.jl:5",
      " [8] __solve at /home/lvassor/.julia/packages/OrdinaryDiffEq/aTiKO/src/solve.jl:4 [inlined]",
      " [9] #solve#386 at /home/lvassor/.julia/packages/DiffEqBase/LCorD/src/solve.jl:39 [inlined]",
      " [10] solve(::ODEProblem{Array{Float64,1},Tuple{Float64,Float64},true,Dict{Symbol,Float64},ODEFunction{true,typeof(dM),LinearAlgebra.UniformScaling{Bool},Nothing,Nothing,Nothing,Nothing,Nothing,Nothing,Nothing,Nothing,Nothing},Nothing,DiffEqBase.StandardODEProblem}, ::Rosenbrock23{0,true,DefaultLinSolve,DataType}) at /home/lvassor/.julia/packages/DiffEqBase/LCorD/src/solve.jl:27",
      " [11] top-level scope at In[478]:30"
     ]
    }
   ],
   "source": [
    "for g in 1:length(k_vec)\n",
    "    k = k_vec[g]\n",
    "    for h in 1:length(a_b_vec)\n",
    "        a_b = a_b_vec[h]\n",
    "        M0 = [hypothetical_starting_mass, hypothetical_starting_reproduction]\n",
    "        tspan = (0.0,1e4)\n",
    "        \n",
    "        ## Calculate which curves have an asymptotic size (no repro) larger than m_alpha (i.e. no shrinking) ##\n",
    "        ## when reproduction is from birth ##\n",
    "        results_no_shrink = Array{Float64,2}(undef,resolution,resolution)\n",
    "        results_optimisation = Array{Any,2}(undef,resolution,resolution)\n",
    "        for i in 1:resolution\n",
    "            c_0 = c_vec[i]\n",
    "            for j in 1:resolution\n",
    "                c_b = c_b_vec[j]\n",
    "                p = Dict([(:a_0,a),(:a_b,a_b),\n",
    "                  (:b_0,b),(:b_b,1.0),\n",
    "                  (:c_0,c_0),(:c_b,c_b),\n",
    "                  (:Alph,alpha),\n",
    "                  (:k,k),(:Z,2/alpha)])\n",
    "                \n",
    "                prob = ODEProblem(dM,M0,tspan,p)\n",
    "                sol_optimisation = solve(prob,Rosenbrock23())                \n",
    "                results_optimisation[i,j] = sol_optimisation\n",
    "                M_alph = sol_optimisation(p[:Alph])[1] # find m_alpha for your given alpha - needs fixing as finding same value in every loop\n",
    "#                 print(p)\n",
    "                p[:Alph] = 0.0 # update p value, MUST come after prob defined\n",
    "#                 print(\"new p\", p)\n",
    "                prob = ODEProblem(dM,M0,tspan,p)\n",
    "                sol_no_shrink = solve(prob,Rosenbrock23())\n",
    "                results_no_shrink[i,j] = sol_no_shrink[end][1]\n",
    "                \n",
    "            end\n",
    "        end\n",
    "        feas = results_no_shrink .> M_alph # matrix of feasible growth curves where asmyptotic size is larger than mass a maturity (i.e.) those curves with no shrinking\n",
    "        \n",
    "        ## Of those feasible curves, what is optimum\n",
    "        x = [i.u[end][2] for i = results_optimisation] # find reproduction for each cell\n",
    "        \n",
    "        ## Find optimum values from matrix\n",
    "        max = findmax(x .* feas)\n",
    "        c_opt = c_vec[max[2][1]]\n",
    "        rho_opt = c_b_vec[max[2][2]]\n",
    "        \n",
    "        ## Set plot attributes\n",
    "        xticks_labels = 0.00:maximum(c_vec)/10:maximum(c_vec)\n",
    "        yticks_labels = 0.00:maximum(c_b_vec)/10:maximum(c_b_vec)\n",
    "        \n",
    "        ## Generate plots\n",
    "        heatmap(x .* feas, xlab=L\"c\",xticks = (xticks,xticks_labels),\n",
    "                            ylab=L\"\\rho\", yticks = (yticks,yticks_labels),\n",
    "                            transpose=true)\n",
    "        annotate!([(80, 90, text(\"c opt = $(@sprintf(\"%.2f\", c_opt))\\n  rho opt = $(@sprintf(\"%.2f\", rho_opt))\", 10, :white, :topright))])\n",
    "        annotate!([(max[2][1], max[2][2], text(\"O\", 12, :white))])\n",
    "        ## Save fitness surface\n",
    "        file_name = \"../Results/opt_hm_Alph=$(@sprintf(\"%.2f\", alpha))_a=$(@sprintf(\"%.2f\", a))_x=$(@sprintf(\"%.2f\", a_b))_k=$(@sprintf(\"%.2f\", p[:k])).pdf\"\n",
    "        savefig(file_name) # Saves the plot from p as a .pdf vector graphic\n",
    "        ## Save parameter space for feasible curves\n",
    "#         heatmap(feas, xlab=L\"c\",xticks = (xticks,xticks_labels),\n",
    "#                             ylab=L\"\\rho\", yticks = (yticks,yticks_labels),\n",
    "#                             transpose=true) #, colormap=ColorMaps.Named(\"Jet\"))\n",
    "#         savefig(\"../Results/feasible.pdf\") # Saves the plot from p as a .pdf vector graphic\n",
    "    end\n",
    "end"
   ]
  },
  {
   "cell_type": "code",
   "execution_count": 470,
   "metadata": {
    "scrolled": true
   },
   "outputs": [
    {
     "data": {
      "text/plain": [
       "Dict{Symbol,Real} with 9 entries:\n",
       "  :a_0  => 0.7\n",
       "  :Alph => 0.0\n",
       "  :b_b  => 1.0\n",
       "  :Z    => 0.01\n",
       "  :c_0  => 0.5\n",
       "  :k    => 0.1\n",
       "  :c_b  => 1.25\n",
       "  :b_0  => 0.055669\n",
       "  :a_b  => 0.85"
      ]
     },
     "execution_count": 470,
     "metadata": {},
     "output_type": "execute_result"
    }
   ],
   "source": [
    "p"
   ]
  },
  {
   "cell_type": "code",
   "execution_count": 471,
   "metadata": {},
   "outputs": [
    {
     "data": {
      "text/plain": [
       "200"
      ]
     },
     "execution_count": 471,
     "metadata": {},
     "output_type": "execute_result"
    }
   ],
   "source": [
    "p[:Alph] = 200"
   ]
  },
  {
   "cell_type": "code",
   "execution_count": 472,
   "metadata": {},
   "outputs": [
    {
     "data": {
      "text/plain": [
       "Dict{Symbol,Real} with 9 entries:\n",
       "  :a_0  => 0.7\n",
       "  :Alph => 200\n",
       "  :b_b  => 1.0\n",
       "  :Z    => 0.01\n",
       "  :c_0  => 0.5\n",
       "  :k    => 0.1\n",
       "  :c_b  => 1.25\n",
       "  :b_0  => 0.055669\n",
       "  :a_b  => 0.85"
      ]
     },
     "execution_count": 472,
     "metadata": {},
     "output_type": "execute_result"
    }
   ],
   "source": [
    "p"
   ]
  }
 ],
 "metadata": {
  "kernelspec": {
   "display_name": "Julia 1.1.1",
   "language": "julia",
   "name": "julia-1.1"
  },
  "language_info": {
   "file_extension": ".jl",
   "mimetype": "application/julia",
   "name": "julia",
   "version": "1.1.1"
  },
  "toc": {
   "nav_menu": {},
   "number_sections": true,
   "sideBar": true,
   "skip_h1_title": false,
   "title_cell": "Table of Contents",
   "title_sidebar": "Contents",
   "toc_cell": false,
   "toc_position": {},
   "toc_section_display": true,
   "toc_window_display": false
  }
 },
 "nbformat": 4,
 "nbformat_minor": 2
}
